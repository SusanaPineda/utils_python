{
  "nbformat": 4,
  "nbformat_minor": 0,
  "metadata": {
    "kernelspec": {
      "display_name": "Python 3",
      "language": "python",
      "name": "python3"
    },
    "language_info": {
      "codemirror_mode": {
        "name": "ipython",
        "version": 3
      },
      "file_extension": ".py",
      "mimetype": "text/x-python",
      "name": "python",
      "nbconvert_exporter": "python",
      "pygments_lexer": "ipython3",
      "version": "3.6.7"
    },
    "colab": {
      "name": "compute_stats.ipynb",
      "provenance": [],
      "toc_visible": true
    }
  },
  "cells": [
    {
      "cell_type": "markdown",
      "metadata": {
        "id": "mDJT5Akhx308",
        "colab_type": "text"
      },
      "source": [
        "# Compute_Stats"
      ]
    },
    {
      "cell_type": "markdown",
      "metadata": {
        "id": "B3Dfcr7Zx31B",
        "colab_type": "text"
      },
      "source": [
        "Queremos comparar los resultados obtenidos por un algoritmo de reconocimiento de objetos 3D. Por cada objeto reconocido se conoce su area2D, area3D y nivel de complejidad expresado como un número entero. Tanto los resultados generados por el algoritmo, como el groundtruth, se encuentran en ficheros csv diferentes (ver\n",
        "ficheros adjuntos con el enunciado).\n",
        "Se desea analizar cada característica por separado, generando una gráfica por cada\n",
        "una de ellas."
      ]
    },
    {
      "cell_type": "markdown",
      "metadata": {
        "id": "qVfiAEAYx31F",
        "colab_type": "text"
      },
      "source": [
        "## Imports"
      ]
    },
    {
      "cell_type": "code",
      "metadata": {
        "id": "RnpLoJLNx31N",
        "colab_type": "code",
        "colab": {}
      },
      "source": [
        "import os\n",
        "import numpy as np\n",
        "import pandas as pd\n",
        "import math\n",
        "from matplotlib import pyplot as plt\n",
        "import argparse"
      ],
      "execution_count": 0,
      "outputs": []
    },
    {
      "cell_type": "markdown",
      "metadata": {
        "id": "vlqk7-zpx31a",
        "colab_type": "text"
      },
      "source": [
        "## Variables globales de lectura y escritura"
      ]
    },
    {
      "cell_type": "code",
      "metadata": {
        "id": "wnq_ymj4x31e",
        "colab_type": "code",
        "colab": {}
      },
      "source": [
        "URLDetection = \"./detection.csv\"\n",
        "URLGroundtruth = \"./groundtruth.csv\"\n",
        "URLoutput = \"./\""
      ],
      "execution_count": 0,
      "outputs": []
    },
    {
      "cell_type": "markdown",
      "metadata": {
        "id": "YuZcLIcax31l",
        "colab_type": "text"
      },
      "source": [
        " ## lectura de datos"
      ]
    },
    {
      "cell_type": "code",
      "metadata": {
        "id": "WR0w92nXx31n",
        "colab_type": "code",
        "colab": {}
      },
      "source": [
        "detection = pd.read_csv(URLDetection, na_values=\"-\")\n",
        "groundtruth = pd.read_csv(URLGroundtruth, na_values=\"-\")\n",
        "\n",
        "detection_values = detection.values\n",
        "groundtruth_values = groundtruth.values"
      ],
      "execution_count": 0,
      "outputs": []
    },
    {
      "cell_type": "markdown",
      "metadata": {
        "id": "ZkxINcR0x31u",
        "colab_type": "text"
      },
      "source": [
        "## creación de las columnas para las graficas 2D y 3D"
      ]
    },
    {
      "cell_type": "code",
      "metadata": {
        "id": "5IEK_Y6Sx31w",
        "colab_type": "code",
        "colab": {}
      },
      "source": [
        "ranges = range(0, 250, 50)\n",
        "thresholds_length = 5\n",
        "intervalos = [[ranges[n], ranges[n+1]] for n in range(thresholds_length) if n < thresholds_length-1]\n",
        "intervalos.append([ranges[thresholds_length-1], math.inf])\n",
        "\n",
        "labels = [\"[\" + str(intervalos[n][0]) + \", \" + str(intervalos[n][1]) + \")\" for n in range(len(intervalos))]\n",
        "labels.append(\"Errors\")"
      ],
      "execution_count": 0,
      "outputs": []
    },
    {
      "cell_type": "markdown",
      "metadata": {
        "id": "fx1darUdx311",
        "colab_type": "text"
      },
      "source": [
        "### Calculo de los valores de la grafica 2D"
      ]
    },
    {
      "cell_type": "code",
      "metadata": {
        "id": "4xKlOCPNx314",
        "colab_type": "code",
        "colab": {}
      },
      "source": [
        "a = detection_values[:, 1] - groundtruth_values[:, 1]\n",
        "total_values = len(a)\n",
        "error_count = np.sum(np.isnan(a))\n",
        "a = np.abs(np.where(np.isfinite(a), a, 0))\n",
        "results = [(np.count_nonzero((a >= intervalos[n][0]) & (a < intervalos[n][1]))/total_values)*100 for n in range(len(intervalos))]\n",
        "results.append(error_count)"
      ],
      "execution_count": 0,
      "outputs": []
    },
    {
      "cell_type": "markdown",
      "metadata": {
        "id": "uF1M0lzBx319",
        "colab_type": "text"
      },
      "source": [
        "### Calculo de los valores de la gráfica 3D"
      ]
    },
    {
      "cell_type": "code",
      "metadata": {
        "id": "jG7Z5H_Rx32A",
        "colab_type": "code",
        "colab": {}
      },
      "source": [
        "a = detection_values[:, 2] - groundtruth_values[:, 2]\n",
        "total_values = len(a)\n",
        "error_count = np.sum(np.isnan(a))\n",
        "a = np.abs(np.where(np.isfinite(a), a, 0))\n",
        "results2 = [(np.count_nonzero((a >= intervalos[n][0]) & (a < intervalos[n][1]))/total_values)*100 for n in range(len(intervalos))]\n",
        "results2.append(error_count)"
      ],
      "execution_count": 0,
      "outputs": []
    },
    {
      "cell_type": "markdown",
      "metadata": {
        "id": "CwU80pC0x32F",
        "colab_type": "text"
      },
      "source": [
        "## Creación de las columnas de complexity"
      ]
    },
    {
      "cell_type": "code",
      "metadata": {
        "id": "BF7JWaPNx32I",
        "colab_type": "code",
        "colab": {}
      },
      "source": [
        "ranges2 = range(5)\n",
        "thresholds2_length = 5\n",
        "intervalos2 = [[ranges2[n], ranges2[n+1]] for n in range(thresholds2_length) if n < thresholds2_length-1]\n",
        "intervalos2.append([ranges2[thresholds2_length-1], math.inf])\n",
        "\n",
        "labels = [\"[\" + str(intervalos2[n][0]) + \", \" + str(intervalos2[n][1]) + \")\" for n in range(len(intervalos2))]\n",
        "labels.append(\"Errors\")"
      ],
      "execution_count": 0,
      "outputs": []
    },
    {
      "cell_type": "markdown",
      "metadata": {
        "id": "AzXPDnlcx32N",
        "colab_type": "text"
      },
      "source": [
        "### Calculo de los valores de la grafica complexity"
      ]
    },
    {
      "cell_type": "code",
      "metadata": {
        "id": "QRe2wZNUx32O",
        "colab_type": "code",
        "colab": {}
      },
      "source": [
        "a = detection_values[:, 3] - groundtruth_values[:, 3]\n",
        "total_values = len(a)\n",
        "error_count = np.sum(np.isnan(a))\n",
        "a = np.abs(np.where(np.isfinite(a), a, 0))\n",
        "results3 = [(np.count_nonzero((a >= intervalos[n][0]) & (a < intervalos[n][1]))/total_values)*100 for n in range(len(intervalos))]\n",
        "results3.append(error_count)"
      ],
      "execution_count": 0,
      "outputs": []
    },
    {
      "cell_type": "markdown",
      "metadata": {
        "id": "T-0A4NGWx32V",
        "colab_type": "text"
      },
      "source": [
        "## Visualización de los datos"
      ]
    },
    {
      "cell_type": "code",
      "metadata": {
        "id": "9d9uJGi1x32W",
        "colab_type": "code",
        "colab": {
          "base_uri": "https://localhost:8080/",
          "height": 851
        },
        "outputId": "54b048ad-b434-4c08-f13a-117ddb933574"
      },
      "source": [
        "plt.title(\"Area 2D\")\n",
        "plt.xlabel(\"Squared feet error\")\n",
        "plt.ylabel(\"Percentage of blueprints\")\n",
        "plt.bar(range(len(results)), results, color=['red','red','red','red','red','black'])\n",
        "plt.xticks(range(len(results)), labels)\n",
        "plt.ylim([0, 100])\n",
        "plt.savefig(URLoutput + \"/Area2D.png\")\n",
        "plt.show()\n",
        "\n",
        "plt.title(\"Area 3D\")\n",
        "plt.xlabel(\"Squared feet error\")\n",
        "plt.ylabel(\"Percentage of blueprints\")\n",
        "plt.bar(range(len(results2)), results2, color=['red','red','red','red','red','black'])\n",
        "plt.xticks(range(len(results2)), labels)\n",
        "plt.ylim([0, 100])\n",
        "plt.savefig(URLoutput + \"/Area2D.png\")\n",
        "plt.show()\n",
        "\n",
        "plt.title(\"complexity\")\n",
        "plt.xlabel(\"Inches per foot\")\n",
        "plt.ylabel(\"Percentage of blueprints\")\n",
        "plt.bar(range(len(results3)), results3, color=['red','red','red','red','red','black'])\n",
        "plt.xticks(range(len(results3)), labels)\n",
        "plt.ylim([0, 100])\n",
        "plt.savefig(URLoutput + \"/Area2D.png\")\n",
        "plt.show()"
      ],
      "execution_count": 13,
      "outputs": [
        {
          "output_type": "display_data",
          "data": {
            "image/png": "[encoded data removed]",
            "text/plain": [
              "<Figure size 432x288 with 1 Axes>"
            ]
          },
          "metadata": {
            "tags": []
          }
        },
        {
          "output_type": "display_data",
          "data": {
            "image/png": "[encoded data removed]",
            "text/plain": [
              "<Figure size 432x288 with 1 Axes>"
            ]
          },
          "metadata": {
            "tags": []
          }
        },
        {
          "output_type": "display_data",
          "data": {
            "image/png": "[encoded data removed]",
            "text/plain": [
              "<Figure size 432x288 with 1 Axes>"
            ]
          },
          "metadata": {
            "tags": []
          }
        }
      ]
    }
  ]
}